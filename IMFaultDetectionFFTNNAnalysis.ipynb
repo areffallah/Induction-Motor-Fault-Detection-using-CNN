{
 "cells": [
  {
   "cell_type": "code",
   "execution_count": 1,
   "metadata": {},
   "outputs": [],
   "source": [
    "import numpy as np\r\n",
    "import pandas as pd\r\n",
    "import glob"
   ]
  },
  {
   "cell_type": "code",
   "execution_count": 2,
   "metadata": {},
   "outputs": [],
   "source": [
    "# For loading saved Neural Network\r\n",
    "from keras.models import model_from_json\r\n"
   ]
  },
  {
   "cell_type": "code",
   "execution_count": 3,
   "metadata": {},
   "outputs": [],
   "source": [
    "cur_path = \"C:/Users/AREF FALLAH/Documents/McMaster Universiy/McMaster Projects/Kaggle Induction Motor Fault Detection/KaggleData/\""
   ]
  },
  {
   "cell_type": "code",
   "execution_count": 4,
   "metadata": {},
   "outputs": [],
   "source": [
    "normal_file_names = glob.glob(cur_path + '/normal/*.csv')\r\n",
    "imnormal_file_names_6g = glob.glob(cur_path+'/imbalance/6g/*.csv')\r\n",
    "imnormal_file_names_10g = glob.glob(cur_path+'/imbalance/10g/*.csv')\r\n",
    "imnormal_file_names_15g = glob.glob(cur_path+'/imbalance\\\\15g/*.csv')\r\n",
    "imnormal_file_names_20g = glob.glob(cur_path+'/imbalance\\\\20g/*.csv')\r\n",
    "imnormal_file_names_25g = glob.glob(cur_path+'/imbalance\\\\25g/*.csv')\r\n",
    "imnormal_file_names_30g = glob.glob(cur_path+'/imbalance\\\\30g/*.csv')\r\n"
   ]
  },
  {
   "cell_type": "code",
   "execution_count": 5,
   "metadata": {},
   "outputs": [],
   "source": [
    "def dataReader(path_names):\r\n",
    "    data_n = pd.DataFrame()\r\n",
    "    for i in path_names:\r\n",
    "        low_data = pd.read_csv(i, header=None)\r\n",
    "        data_n = pd.concat([data_n, low_data], ignore_index=True)\r\n",
    "    return data_n\r\n"
   ]
  },
  {
   "cell_type": "code",
   "execution_count": 17,
   "metadata": {},
   "outputs": [],
   "source": [
    "data_n = dataReader(normal_file_names)\r\n",
    "data_6g = dataReader(imnormal_file_names_6g)\r\n",
    "data_10g = dataReader(imnormal_file_names_10g)\r\n",
    "data_15g = dataReader(imnormal_file_names_15g)\r\n",
    "data_20g = dataReader(imnormal_file_names_20g)\r\n",
    "data_25g = dataReader(imnormal_file_names_25g)\r\n",
    "data_30g = dataReader(imnormal_file_names_30g)\r\n"
   ]
  },
  {
   "cell_type": "code",
   "execution_count": 7,
   "metadata": {},
   "outputs": [
    {
     "name": "stdout",
     "output_type": "stream",
     "text": [
      "<class 'pandas.core.frame.DataFrame'>\n",
      "RangeIndex: 7250000 entries, 0 to 7249999\n",
      "Data columns (total 8 columns):\n",
      " #   Column  Dtype  \n",
      "---  ------  -----  \n",
      " 0   0       float64\n",
      " 1   1       float64\n",
      " 2   2       float64\n",
      " 3   3       float64\n",
      " 4   4       float64\n",
      " 5   5       float64\n",
      " 6   6       float64\n",
      " 7   7       float64\n",
      "dtypes: float64(8)\n",
      "memory usage: 442.5 MB\n"
     ]
    }
   ],
   "source": [
    "data_n.info()"
   ]
  },
  {
   "cell_type": "code",
   "execution_count": 8,
   "metadata": {},
   "outputs": [],
   "source": [
    "def downSampler(data, a, b):\r\n",
    "    \"\"\"\r\n",
    "    data = data\r\n",
    "    a = start index\r\n",
    "    b = sampling rate\r\n",
    "    \"\"\"\r\n",
    "    data_decreased = pd.DataFrame()\r\n",
    "    x = b\r\n",
    "    for i in range(int(len(data)/x)):\r\n",
    "        data_decreased = data_decreased.append(\r\n",
    "            data.iloc[a:b, :].sum()/x, ignore_index=True)\r\n",
    "        a += x\r\n",
    "        b += x\r\n",
    "    return data_decreased\r\n"
   ]
  },
  {
   "cell_type": "code",
   "execution_count": 9,
   "metadata": {},
   "outputs": [],
   "source": [
    "def TimeIntervalDataset(dataset, Interval = 1000):\r\n",
    "\tDataSubset = []\r\n",
    "\tfor i in range(int(len(dataset)/Interval)):\r\n",
    "\t\tdummy = dataset.iloc[i:i+Interval].values\r\n",
    "\t\tDataSubset.append(dummy)\r\n",
    "\treturn np.array(DataSubset)"
   ]
  },
  {
   "cell_type": "code",
   "execution_count": 12,
   "metadata": {},
   "outputs": [],
   "source": [
    "a = []\r\n",
    "a = TimeIntervalDataset(data_n)"
   ]
  },
  {
   "cell_type": "code",
   "execution_count": 10,
   "metadata": {},
   "outputs": [],
   "source": [
    "data_n = downSampler(data_n, 0, 5000)\r\n",
    "data_6g = downSampler(data_6g, 0, 5000)\r\n",
    "data_10g = downSampler(data_10g, 0, 5000)\r\n",
    "data_15g = downSampler(data_15g, 0, 5000)\r\n",
    "data_20g = downSampler(data_20g, 0, 5000)\r\n",
    "data_25g = downSampler(data_25g, 0, 5000)\r\n",
    "data_30g = downSampler(data_30g, 0, 5000)\r\n"
   ]
  },
  {
   "cell_type": "code",
   "execution_count": 11,
   "metadata": {},
   "outputs": [],
   "source": [
    "from scipy import signal\r\n",
    "\r\n",
    "\r\n",
    "def FFT(data):\r\n",
    "    autocorr = signal.fftconvolve(data, data[::-1], mode='full')\r\n",
    "    return pd.DataFrame(autocorr)\r\n"
   ]
  },
  {
   "cell_type": "code",
   "execution_count": 12,
   "metadata": {},
   "outputs": [],
   "source": [
    "from scipy import signal\r\n",
    "\r\n",
    "\r\n",
    "def InvFFT(data):\r\n",
    "    autocorr = signal.fftconvolve(data, data[::-1], mode='full')\r\n",
    "    return pd.DataFrame(autocorr)\r\n"
   ]
  },
  {
   "cell_type": "code",
   "execution_count": 61,
   "metadata": {},
   "outputs": [],
   "source": [
    "data_n1 = FFT(data_n[0:10000])\r\n",
    "data_6g = FFT(data_6g)\r\n",
    "data_10g = FFT(data_10g)\r\n",
    "data_15g = FFT(data_15g)\r\n",
    "data_20g = FFT(data_20g)\r\n",
    "data_25g = FFT(data_25g)\r\n",
    "data_30g = FFT(data_30g)\r\n"
   ]
  },
  {
   "cell_type": "code",
   "execution_count": 62,
   "metadata": {},
   "outputs": [],
   "source": [
    "data_n2 = data_n[0:10000]\r\n",
    "data_n3 = FFT(data_n2[:][0])\r\n",
    "data_n3 = np.array(data_n3[:][0])\r\n",
    "PSD = data_n3*np.conj(data_n3)/len(data_n3)\r\n"
   ]
  },
  {
   "cell_type": "code",
   "execution_count": 63,
   "metadata": {},
   "outputs": [],
   "source": [
    "indices = PSD < 5000\r\n",
    "data_n3_Clean = PSD * indices\r\n",
    "fhat = indices*data_n3\r\n",
    "ffilt = np.fft.ifft(fhat)\r\n",
    "Truncated = ffilt[1000:7000]"
   ]
  },
  {
   "cell_type": "code",
   "execution_count": 65,
   "metadata": {},
   "outputs": [],
   "source": [
    "import numpy\r\n",
    "numpy.savetxt(\"FFT.csv\", [data_n3, data_n3], delimiter=\",\")"
   ]
  },
  {
   "cell_type": "code",
   "execution_count": 50,
   "metadata": {},
   "outputs": [
    {
     "name": "stderr",
     "output_type": "stream",
     "text": [
      "C:\\ProgramData\\Miniconda3\\lib\\site-packages\\matplotlib\\cbook\\__init__.py:1333: ComplexWarning: Casting complex values to real discards the imaginary part\n",
      "  return np.asarray(x, float)\n",
      "C:\\ProgramData\\Miniconda3\\lib\\site-packages\\matplotlib\\cbook\\__init__.py:1333: ComplexWarning: Casting complex values to real discards the imaginary part\n",
      "  return np.asarray(x, float)\n"
     ]
    },
    {
     "data": {
      "text/plain": [
       "[<matplotlib.lines.Line2D at 0x23c0167e640>]"
      ]
     },
     "execution_count": 50,
     "metadata": {},
     "output_type": "execute_result"
    },
    {
     "data": {
      "image/png": "[encoded data removed]",
      "text/plain": [
       "<Figure size 432x288 with 5 Axes>"
      ]
     },
     "metadata": {
      "needs_background": "light"
     },
     "output_type": "display_data"
    }
   ],
   "source": [
    "from matplotlib import pyplot as plt\r\n",
    "fig, axs = plt.subplots(5)\r\n",
    "fig.suptitle('data FFT')\r\n",
    "x1 = np.arange(0, data_n1.shape[0])\r\n",
    "x2 = np.arange(0, data_n2.shape[0])\r\n",
    "x3 = np.arange(0, len(PSD))\r\n",
    "x4 = np.arange(0, len(ffilt))\r\n",
    "x5 = np.arange(0, len(Truncated))\r\n",
    "axs[0].plot(x1,data_n1[:][0])\r\n",
    "axs[1].plot(x2, data_n2[:][1])\r\n",
    "axs[2].plot(x3, PSD)\r\n",
    "axs[3].plot(x4, ffilt)\r\n",
    "axs[4].plot(x5, Truncated)\r\n"
   ]
  },
  {
   "cell_type": "code",
   "execution_count": null,
   "metadata": {},
   "outputs": [],
   "source": [
    "\r\n"
   ]
  },
  {
   "cell_type": "code",
   "execution_count": 19,
   "metadata": {},
   "outputs": [
    {
     "data": {
      "text/html": [
       "<div>\n",
       "<style scoped>\n",
       "    .dataframe tbody tr th:only-of-type {\n",
       "        vertical-align: middle;\n",
       "    }\n",
       "\n",
       "    .dataframe tbody tr th {\n",
       "        vertical-align: top;\n",
       "    }\n",
       "\n",
       "    .dataframe thead th {\n",
       "        text-align: right;\n",
       "    }\n",
       "</style>\n",
       "<table border=\"1\" class=\"dataframe\">\n",
       "  <thead>\n",
       "    <tr style=\"text-align: right;\">\n",
       "      <th></th>\n",
       "      <th>0</th>\n",
       "    </tr>\n",
       "  </thead>\n",
       "  <tbody>\n",
       "    <tr>\n",
       "      <th>0</th>\n",
       "      <td>1</td>\n",
       "    </tr>\n",
       "    <tr>\n",
       "      <th>1</th>\n",
       "      <td>1</td>\n",
       "    </tr>\n",
       "    <tr>\n",
       "      <th>2</th>\n",
       "      <td>1</td>\n",
       "    </tr>\n",
       "    <tr>\n",
       "      <th>3</th>\n",
       "      <td>1</td>\n",
       "    </tr>\n",
       "    <tr>\n",
       "      <th>4</th>\n",
       "      <td>1</td>\n",
       "    </tr>\n",
       "    <tr>\n",
       "      <th>...</th>\n",
       "      <td>...</td>\n",
       "    </tr>\n",
       "    <tr>\n",
       "      <th>33688</th>\n",
       "      <td>6</td>\n",
       "    </tr>\n",
       "    <tr>\n",
       "      <th>33689</th>\n",
       "      <td>6</td>\n",
       "    </tr>\n",
       "    <tr>\n",
       "      <th>33690</th>\n",
       "      <td>6</td>\n",
       "    </tr>\n",
       "    <tr>\n",
       "      <th>33691</th>\n",
       "      <td>6</td>\n",
       "    </tr>\n",
       "    <tr>\n",
       "      <th>33692</th>\n",
       "      <td>6</td>\n",
       "    </tr>\n",
       "  </tbody>\n",
       "</table>\n",
       "<p>33693 rows × 1 columns</p>\n",
       "</div>"
      ],
      "text/plain": [
       "       0\n",
       "0      1\n",
       "1      1\n",
       "2      1\n",
       "3      1\n",
       "4      1\n",
       "...   ..\n",
       "33688  6\n",
       "33689  6\n",
       "33690  6\n",
       "33691  6\n",
       "33692  6\n",
       "\n",
       "[33693 rows x 1 columns]"
      ]
     },
     "execution_count": 19,
     "metadata": {},
     "output_type": "execute_result"
    }
   ],
   "source": [
    "y_1 = pd.DataFrame(np.ones(int(len(data_n)), dtype=int))\r\n",
    "y_2 = pd.DataFrame(np.zeros(int(len(data_6g)), dtype=int))\r\n",
    "y_3 = pd.DataFrame(np.full((int(len(data_10g)), 1), 2))\r\n",
    "y_4 = pd.DataFrame(np.full((int(len(data_15g)), 1), 3))\r\n",
    "y_5 = pd.DataFrame(np.full((int(len(data_20g)), 1), 4))\r\n",
    "y_6 = pd.DataFrame(np.full((int(len(data_25g)), 1), 5))\r\n",
    "y_7 = pd.DataFrame(np.full((int(len(data_30g)), 1), 6))\r\n",
    "y = pd.concat([y_1, y_2, y_3, y_4, y_5, y_6, y_7], ignore_index=True)\r\n",
    "y\r\n"
   ]
  },
  {
   "cell_type": "code",
   "execution_count": 12,
   "metadata": {},
   "outputs": [],
   "source": [
    "data = pd.concat([data_n, data_6g, data_10g, data_15g,\r\n",
    "                 data_20g, data_25g, data_30g], ignore_index=True)\r\n"
   ]
  },
  {
   "cell_type": "code",
   "execution_count": 13,
   "metadata": {},
   "outputs": [],
   "source": [
    "from sklearn.model_selection import train_test_split\r\n",
    "X_train, X_test, y_train, y_test = train_test_split(\r\n",
    "    data, y, test_size=0.25, shuffle=True)\r\n"
   ]
  },
  {
   "cell_type": "code",
   "execution_count": 14,
   "metadata": {},
   "outputs": [
    {
     "name": "stdout",
     "output_type": "stream",
     "text": [
      "Shape of Train Data : (25269, 15)\n",
      "Shape of Test Data : (8424, 15)\n"
     ]
    }
   ],
   "source": [
    "print(\"Shape of Train Data : {}\".format(X_train.shape))\r\n",
    "print(\"Shape of Test Data : {}\".format(X_test.shape))\r\n"
   ]
  },
  {
   "cell_type": "code",
   "execution_count": 15,
   "metadata": {},
   "outputs": [
    {
     "name": "stderr",
     "output_type": "stream",
     "text": [
      "C:\\ProgramData\\Miniconda3\\lib\\site-packages\\sklearn\\utils\\validation.py:63: DataConversionWarning: A column-vector y was passed when a 1d array was expected. Please change the shape of y to (n_samples, ), for example using ravel().\n",
      "  return f(*args, **kwargs)\n"
     ]
    },
    {
     "name": "stdout",
     "output_type": "stream",
     "text": [
      "SVM accuracy is 0.5721635205192133 on Train Dataset\n",
      "SVM accuracy is 0.5719373219373219 on Test Dataset\n"
     ]
    }
   ],
   "source": [
    "from sklearn.svm import SVC\r\n",
    "svm = SVC(random_state=1)\r\n",
    "svm.fit(X_train, y_train)\r\n",
    "print(\"SVM accuracy is {} on Train Dataset\".format(svm.score(X_train, y_train)))\r\n",
    "print(\"SVM accuracy is {} on Test Dataset\".format(svm.score(X_test, y_test)))\r\n"
   ]
  },
  {
   "cell_type": "code",
   "execution_count": 16,
   "metadata": {},
   "outputs": [
    {
     "name": "stderr",
     "output_type": "stream",
     "text": [
      "C:\\ProgramData\\Miniconda3\\lib\\site-packages\\sklearn\\neighbors\\_classification.py:179: DataConversionWarning: A column-vector y was passed when a 1d array was expected. Please change the shape of y to (n_samples,), for example using ravel().\n",
      "  return self._fit(X, y)\n"
     ]
    },
    {
     "name": "stdout",
     "output_type": "stream",
     "text": [
      "k=3NN Accuracy on Train Data: 0.9037951640349836\n",
      "k=3NN Accuracy on Test Data: 0.6017331433998101\n"
     ]
    }
   ],
   "source": [
    "from sklearn.neighbors import KNeighborsClassifier\r\n",
    "knn = KNeighborsClassifier(n_neighbors=3)  # n_neighbors = k\r\n",
    "knn.fit(X_train, y_train)\r\n",
    "print(\"k={}NN Accuracy on Train Data: {}\".format(3, knn.score(X_train, y_train)))\r\n",
    "print(\"k={}NN Accuracy on Test Data: {}\".format(3, knn.score(X_test, y_test)))\r\n"
   ]
  },
  {
   "cell_type": "code",
   "execution_count": 17,
   "metadata": {},
   "outputs": [
    {
     "name": "stdout",
     "output_type": "stream",
     "text": [
      "Model: \"sequential\"\n",
      "_________________________________________________________________\n",
      "Layer (type)                 Output Shape              Param #   \n",
      "=================================================================\n",
      "dense (Dense)                (None, 32)                512       \n",
      "_________________________________________________________________\n",
      "dense_1 (Dense)              (None, 64)                2112      \n",
      "_________________________________________________________________\n",
      "dense_2 (Dense)              (None, 128)               8320      \n",
      "_________________________________________________________________\n",
      "dense_3 (Dense)              (None, 64)                8256      \n",
      "_________________________________________________________________\n",
      "dense_4 (Dense)              (None, 32)                2080      \n",
      "_________________________________________________________________\n",
      "dense_5 (Dense)              (None, 7)                 231       \n",
      "=================================================================\n",
      "Total params: 21,511\n",
      "Trainable params: 21,511\n",
      "Non-trainable params: 0\n",
      "_________________________________________________________________\n"
     ]
    }
   ],
   "source": [
    "from tensorflow.python.keras.layers import Dense\r\n",
    "from tensorflow.python.keras.callbacks import EarlyStopping\r\n",
    "from tensorflow.python.keras.layers import Dropout\r\n",
    "from tensorflow.python.keras.models import Sequential\r\n",
    "early_stop = EarlyStopping(monitor='loss', patience=2)\r\n",
    "model = Sequential()\r\n",
    "\r\n",
    "model.add(Dense(32, activation='relu', input_shape=(\r\n",
    "    15,), kernel_initializer='random_uniform'))\r\n",
    "model.add(Dense(64, activation='relu', kernel_initializer='random_uniform'))\r\n",
    "model.add(Dense(128, activation='relu', kernel_initializer='random_uniform'))\r\n",
    "model.add(Dense(64, activation='relu', kernel_initializer='random_uniform'))\r\n",
    "model.add(Dense(32, activation='relu', kernel_initializer='random_uniform'))\r\n",
    "model.add(Dense(7, activation='softmax', kernel_initializer='random_uniform'))\r\n",
    "\r\n",
    "model.compile(optimizer='adam',\r\n",
    "              loss='sparse_categorical_crossentropy', metrics=['accuracy'])\r\n",
    "model.summary()\r\n"
   ]
  },
  {
   "cell_type": "code",
   "execution_count": 20,
   "metadata": {},
   "outputs": [
    {
     "name": "stderr",
     "output_type": "stream",
     "text": [
      "C:\\ProgramData\\Miniconda3\\lib\\site-packages\\sklearn\\utils\\validation.py:63: DataConversionWarning: A column-vector y was passed when a 1d array was expected. Please change the shape of y to (n_samples, ), for example using ravel().\n",
      "  return f(*args, **kwargs)\n"
     ]
    }
   ],
   "source": [
    "from sklearn.preprocessing import LabelEncoder\r\n",
    "y = LabelEncoder().fit_transform(y)\r\n"
   ]
  },
  {
   "cell_type": "code",
   "execution_count": 21,
   "metadata": {},
   "outputs": [
    {
     "name": "stdout",
     "output_type": "stream",
     "text": [
      "Epoch 1/20\n",
      "632/632 [==============================] - 1s 1ms/step - loss: 1.4393 - accuracy: 0.3618 - val_loss: 1.1789 - val_accuracy: 0.4713\n",
      "Epoch 2/20\n",
      "632/632 [==============================] - 1s 2ms/step - loss: 1.0618 - accuracy: 0.5349 - val_loss: 1.0266 - val_accuracy: 0.5673\n",
      "Epoch 3/20\n",
      "632/632 [==============================] - 1s 1ms/step - loss: 0.8583 - accuracy: 0.6566 - val_loss: 0.7606 - val_accuracy: 0.7004\n",
      "Epoch 4/20\n",
      "632/632 [==============================] - 1s 2ms/step - loss: 0.6976 - accuracy: 0.7305 - val_loss: 0.7107 - val_accuracy: 0.7384\n",
      "Epoch 5/20\n",
      "632/632 [==============================] - 1s 1ms/step - loss: 0.6075 - accuracy: 0.7609 - val_loss: 0.6006 - val_accuracy: 0.7681\n",
      "Epoch 6/20\n",
      "632/632 [==============================] - 1s 1ms/step - loss: 0.5466 - accuracy: 0.7813 - val_loss: 0.4965 - val_accuracy: 0.8008\n",
      "Epoch 7/20\n",
      "632/632 [==============================] - 1s 1ms/step - loss: 0.4893 - accuracy: 0.8024 - val_loss: 0.4544 - val_accuracy: 0.8114\n",
      "Epoch 8/20\n",
      "632/632 [==============================] - 1s 1ms/step - loss: 0.4481 - accuracy: 0.8203 - val_loss: 0.4422 - val_accuracy: 0.8168\n",
      "Epoch 9/20\n",
      "632/632 [==============================] - 1s 1ms/step - loss: 0.4211 - accuracy: 0.8292 - val_loss: 0.3964 - val_accuracy: 0.8370\n",
      "Epoch 10/20\n",
      "632/632 [==============================] - 1s 1ms/step - loss: 0.3823 - accuracy: 0.8471 - val_loss: 0.3793 - val_accuracy: 0.8482\n",
      "Epoch 11/20\n",
      "632/632 [==============================] - 1s 1ms/step - loss: 0.3551 - accuracy: 0.8565 - val_loss: 0.3646 - val_accuracy: 0.8556\n",
      "Epoch 12/20\n",
      "632/632 [==============================] - 1s 1ms/step - loss: 0.3414 - accuracy: 0.8604 - val_loss: 0.3874 - val_accuracy: 0.8445\n",
      "Epoch 13/20\n",
      "632/632 [==============================] - 1s 1ms/step - loss: 0.3299 - accuracy: 0.8658 - val_loss: 0.3347 - val_accuracy: 0.8621\n",
      "Epoch 14/20\n",
      "632/632 [==============================] - 1s 1ms/step - loss: 0.3111 - accuracy: 0.8737 - val_loss: 0.3423 - val_accuracy: 0.8583\n",
      "Epoch 15/20\n",
      "632/632 [==============================] - 1s 1ms/step - loss: 0.2956 - accuracy: 0.8795 - val_loss: 0.3089 - val_accuracy: 0.8738\n",
      "Epoch 16/20\n",
      "632/632 [==============================] - 1s 1ms/step - loss: 0.2839 - accuracy: 0.8835 - val_loss: 0.3031 - val_accuracy: 0.8759\n",
      "Epoch 17/20\n",
      "632/632 [==============================] - 1s 1ms/step - loss: 0.2804 - accuracy: 0.8860 - val_loss: 0.2826 - val_accuracy: 0.8878\n",
      "Epoch 18/20\n",
      "632/632 [==============================] - 1s 1ms/step - loss: 0.2770 - accuracy: 0.8871 - val_loss: 0.4164 - val_accuracy: 0.8415\n",
      "Epoch 19/20\n",
      "632/632 [==============================] - 1s 1ms/step - loss: 0.2637 - accuracy: 0.8934 - val_loss: 0.2762 - val_accuracy: 0.8906\n",
      "Epoch 20/20\n",
      "632/632 [==============================] - 1s 1ms/step - loss: 0.2572 - accuracy: 0.8966 - val_loss: 0.2736 - val_accuracy: 0.8882\n"
     ]
    }
   ],
   "source": [
    "hist = model.fit(X_train, y_train, epochs=20, validation_split=0.2)\r\n"
   ]
  },
  {
   "cell_type": "code",
   "execution_count": 24,
   "metadata": {},
   "outputs": [
    {
     "name": "stdout",
     "output_type": "stream",
     "text": [
      "Saved model to disk\n"
     ]
    }
   ],
   "source": [
    "\r\n",
    "# # Save Neural Network\r\n",
    "# # serialize model to JSON\r\n",
    "# model_json = model.to_json()\r\n",
    "# with open(\"model.json\", \"w\") as json_file:\r\n",
    "#     json_file.write(model_json)\r\n",
    "# # serialize weights to HDF5\r\n",
    "# model.save_weights(\"model.h5\")\r\n",
    "# print(\"Saved model to disk\")\r\n"
   ]
  },
  {
   "cell_type": "code",
   "execution_count": 26,
   "metadata": {},
   "outputs": [
    {
     "name": "stdout",
     "output_type": "stream",
     "text": [
      "Loaded model from disk\n"
     ]
    }
   ],
   "source": [
    "# # load json and create model\r\n",
    "# json_file = open('model.json', 'r')\r\n",
    "# loaded_model_json = json_file.read()\r\n",
    "# json_file.close()\r\n",
    "# loaded_model = model_from_json(loaded_model_json)\r\n",
    "# # load weights into new model\r\n",
    "# loaded_model.load_weights(\"model.h5\")\r\n",
    "# print(\"Loaded model from disk\")\r\n"
   ]
  },
  {
   "cell_type": "code",
   "execution_count": null,
   "metadata": {},
   "outputs": [],
   "source": [
    "# # evaluate loaded model on test data\r\n",
    "# loaded_model.compile(loss='binary_crossentropy',\r\n",
    "#                     optimizer='rmsprop', metrics=['accuracy'])\r\n",
    "# score = loaded_model.evaluate(X, Y, verbose=0)\r\n",
    "# print(\"%s: %.2f%%\" % (loaded_model.metrics_names[1], score[1]*100))\r\n"
   ]
  },
  {
   "cell_type": "code",
   "execution_count": 27,
   "metadata": {},
   "outputs": [
    {
     "data": {
      "image/png": "[encoded data removed]",
      "text/plain": [
       "<Figure size 432x288 with 1 Axes>"
      ]
     },
     "metadata": {
      "needs_background": "light"
     },
     "output_type": "display_data"
    }
   ],
   "source": [
    "import matplotlib.pyplot as plt\r\n",
    "plt.plot(hist.history['accuracy'])\r\n",
    "plt.plot(hist.history['val_accuracy'])\r\n",
    "plt.title('model accuracy')\r\n",
    "plt.ylabel('accuracy')\r\n",
    "plt.xlabel('epoch')\r\n",
    "plt.legend(['train', 'val'], loc='upper left')\r\n",
    "plt.show()\r\n"
   ]
  },
  {
   "cell_type": "code",
   "execution_count": 23,
   "metadata": {},
   "outputs": [
    {
     "data": {
      "image/png": "[encoded data removed]",
      "text/plain": [
       "<Figure size 432x288 with 1 Axes>"
      ]
     },
     "metadata": {
      "needs_background": "light"
     },
     "output_type": "display_data"
    }
   ],
   "source": [
    "import matplotlib.pyplot as plt\r\n",
    "plt.plot(hist.history['loss'])\r\n",
    "plt.plot(hist.history['val_loss'])\r\n",
    "plt.title('model loss')\r\n",
    "plt.ylabel('loss')\r\n",
    "plt.xlabel('epoch')\r\n",
    "plt.legend(['train', 'val'], loc='upper left')\r\n",
    "plt.show()\r\n"
   ]
  }
 ],
 "metadata": {
  "interpreter": {
   "hash": "ecf5722fdaf1897a315d257d89d94520bfcaa453217d5becf09b39e73618b0de"
  },
  "kernelspec": {
   "display_name": "Python 3.9.1 64-bit ('base': conda)",
   "name": "python3"
  },
  "language_info": {
   "name": "python",
   "version": ""
  },
  "orig_nbformat": 4
 },
 "nbformat": 4,
 "nbformat_minor": 2
}